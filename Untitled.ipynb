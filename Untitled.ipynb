{
 "cells": [
  {
   "cell_type": "code",
   "execution_count": null,
   "metadata": {},
   "outputs": [],
   "source": [
    "from keras.models import Sequential\t#sequential model to build NN\n",
    "from keras.layers import LSTM \t#used for long-short term memory cells\n",
    "from attention_decoder import AttentionDecoder #attention module \n",
    "import numpy as np  #used for arrays\n",
    "import csv\t#to read from file\n",
    "import matplotlib.pyplot as plt #plotgraph\n",
    "import math\n",
    "import time\n",
    "import RNNattention as rnn\n",
    "\n",
    "file_1 = 'SPYweekclose.csv'\n",
    "file_2 = 'SPYweekclose.csv'"
   ]
  },
  {
   "cell_type": "code",
   "execution_count": null,
   "metadata": {},
   "outputs": [],
   "source": [
    "#Load data from first file (etf or stock)\n",
    "data_1, cardinality, maxval_1  = rnn.load_data(file_1)\n",
    "#Load data from second file (etf or stock)\n",
    "data_2, cardinality, maxval_2  = rnn.load_data(file_2)\n",
    "\n",
    "#Parameters\n",
    "maxval_train = max(maxval_1, maxval_2) #fixed --- gets the largest element between both lists\n",
    "steps_in = 96\t\t#number of elements in epoch for training\n",
    "steps_out = 96\t    #number of elements to be predicted\n",
    "\n",
    "real = False   #use data_2 as copy of data_1\n",
    "#real = True    #use data_2 as real time prediction set\n",
    "\n",
    "#shifts values of data_2 for a more real time series prediction\n",
    "if real: \n",
    "    temp = data_2[len(data_2)-steps_out:]\n",
    "    data_2[:steps_out]=[]\n",
    "    data_2.extend(temp)\n"
   ]
  },
  {
   "cell_type": "code",
   "execution_count": null,
   "metadata": {},
   "outputs": [],
   "source": [
    "#Model Setup\n",
    "model = Sequential()\n",
    "model.add(LSTM(250, input_shape=(steps_in, maxval_train), return_sequences=True))\n",
    "model.add(AttentionDecoder(250, maxval_train))\n",
    "model.compile(loss='categorical_crossentropy', optimizer='adam', metrics=['acc'])"
   ]
  },
  {
   "cell_type": "code",
   "execution_count": null,
   "metadata": {
    "scrolled": true
   },
   "outputs": [],
   "source": [
    "#Train/fit \n",
    "\n",
    "start = 0\n",
    "end = steps_in\n",
    "minutes = time.time()\n",
    "for epoch in range(3000):\n",
    "\t\n",
    "\tx,y = rnn.transform_data(steps_in, steps_out, maxval_train, data_1[start:end], data_2[start:end])\n",
    "\tstart, end = rnn.regulate_window(start, end, int(steps_in/4), cardinality, steps_in)\n",
    "\t# fit model/train model\n",
    "    \n",
    "\n",
    "    \n",
    "\tmodel.fit(x, y, epochs=1, verbose=2)\n",
    "    \n",
    "print (((time.time()-minutes)/60), ' minutes')"
   ]
  },
  {
   "cell_type": "code",
   "execution_count": null,
   "metadata": {
    "scrolled": true
   },
   "outputs": [],
   "source": [
    "traverse = int(np.floor((cardinality-steps_in)/steps_out))\n",
    "#traverse = 110\n",
    "prediction = []\n",
    "\n",
    "start = 0\n",
    "end = steps_in\n",
    "\n",
    "for _ in range(traverse):\n",
    "    \n",
    "    x,y = rnn.transform_data(steps_in, steps_out, maxval_train, data_1[start:end], data_2[start:end])\n",
    "    y_test = model.predict(x, verbose=0)\n",
    "    start, end = rnn.regulate_window(start, end, steps_out, cardinality, steps_in)\n",
    "    \n",
    "    prediction.extend(rnn.decode(y_test[0]))\n",
    "   \n",
    "    prediction [len(prediction)-(steps_in-steps_out):] = []\n",
    "\n"
   ]
  },
  {
   "cell_type": "code",
   "execution_count": null,
   "metadata": {},
   "outputs": [],
   "source": [
    "rnn.plot_it(prediction, data_1)\n",
    "rnn.plot_it(prediction[300:348], data_1[300:348])\n",
    "rnn.plot_it(prediction[500:900], data_1[500:900])\n",
    "rnn.plot_it(prediction[500:1300], data_1[500:1300])"
   ]
  },
  {
   "cell_type": "code",
   "execution_count": null,
   "metadata": {},
   "outputs": [],
   "source": []
  },
  {
   "cell_type": "code",
   "execution_count": null,
   "metadata": {},
   "outputs": [],
   "source": []
  }
 ],
 "metadata": {
  "kernelspec": {
   "display_name": "Python 3",
   "language": "python",
   "name": "python3"
  },
  "language_info": {
   "codemirror_mode": {
    "name": "ipython",
    "version": 3
   },
   "file_extension": ".py",
   "mimetype": "text/x-python",
   "name": "python",
   "nbconvert_exporter": "python",
   "pygments_lexer": "ipython3",
   "version": "3.6.8"
  }
 },
 "nbformat": 4,
 "nbformat_minor": 2
}
